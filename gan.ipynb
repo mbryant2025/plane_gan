{
 "cells": [
  {
   "cell_type": "code",
   "execution_count": 676,
   "metadata": {
    "collapsed": true,
    "pycharm": {
     "name": "#%%\n"
    }
   },
   "outputs": [],
   "source": [
    "import os\n",
    "import cv2\n",
    "import tensorflow as tf\n",
    "import numpy as np\n",
    "import matplotlib.pyplot as plt\n",
    "from keras.optimizers import Adam\n",
    "from tensorflow.keras import Sequential\n",
    "from tensorflow.keras.layers import Conv2D, LeakyReLU, BatchNormalization, Flatten, Dense, Reshape, Conv2DTranspose, Dropout\n",
    "from tensorflow.keras.optimizers.schedules import ExponentialDecay\n",
    "from datetime import datetime\n",
    "import imageio.v2 as imageio"
   ]
  },
  {
   "cell_type": "code",
   "execution_count": 677,
   "metadata": {
    "collapsed": false,
    "pycharm": {
     "name": "#%%\n"
    }
   },
   "outputs": [
    {
     "name": "stdout",
     "output_type": "stream",
     "text": [
      "2.9.1\n"
     ]
    }
   ],
   "source": [
    "#Configure TensorFlow to use GPU\n",
    "gpus = tf.config.experimental.list_physical_devices('GPU')\n",
    "tf.config.experimental.set_virtual_device_configuration(gpus[0], [tf.config.experimental.VirtualDeviceConfiguration(memory_limit=2048)])\n",
    "\n",
    "print(tf.__version__)"
   ]
  },
  {
   "cell_type": "code",
   "execution_count": 678,
   "metadata": {
    "collapsed": false,
    "pycharm": {
     "name": "#%%\n"
    }
   },
   "outputs": [],
   "source": [
    "DATADIR = 'C://Users//mbrya//Desktop//planes'\n",
    "\n",
    "image_size = 64 #Note, changing this does not change the model to work with a different image size, just used to quickly get the image size\n",
    "latent_dim = 100\n",
    "\n",
    "# load and prepare training images\n",
    "X = []\n",
    "\n",
    "# load real samples and normalize\n",
    "for img in os.listdir(DATADIR):\n",
    "    path = os.path.join(DATADIR, img)\n",
    "    img = cv2.imread(path)\n",
    "    img = cv2.resize(img, (image_size, image_size))\n",
    "    img = (img - 127.5) / 127.5 #normalize to [-1, 1]\n",
    "    X.append(img)"
   ]
  },
  {
   "cell_type": "code",
   "execution_count": 679,
   "metadata": {
    "collapsed": false,
    "pycharm": {
     "name": "#%%\n"
    }
   },
   "outputs": [
    {
     "name": "stdout",
     "output_type": "stream",
     "text": [
      "(9970, 64, 64, 3)\n"
     ]
    }
   ],
   "source": [
    "X = np.array(X, dtype='float32')\n",
    "print(X.shape)"
   ]
  },
  {
   "cell_type": "code",
   "execution_count": 680,
   "metadata": {
    "collapsed": false,
    "pycharm": {
     "name": "#%%\n"
    }
   },
   "outputs": [
    {
     "name": "stdout",
     "output_type": "stream",
     "text": [
      "sample_img.shape=(64, 64, 3)\n"
     ]
    },
    {
     "data": {
      "image/png": "[encoded data removed]",
      "text/plain": [
       "<Figure size 432x288 with 1 Axes>"
      ]
     },
     "metadata": {
      "needs_background": "light"
     },
     "output_type": "display_data"
    }
   ],
   "source": [
    "# show sample image\n",
    "sample_img = X[0]\n",
    "#scale to [0, 1] for display\n",
    "sample_img = (sample_img + 1) / 2\n",
    "print(f'{sample_img.shape=}')\n",
    "plt.axis('off')\n",
    "plt.imshow(cv2.cvtColor(sample_img, cv2.COLOR_BGR2RGB))\n",
    "plt.savefig('images/sample.png')\n",
    "plt.show()"
   ]
  },
  {
   "cell_type": "code",
   "execution_count": 681,
   "metadata": {
    "collapsed": false,
    "pycharm": {
     "name": "#%%\n"
    }
   },
   "outputs": [],
   "source": [
    "#seeds for progress images\n",
    "num_generated_images = 4**2 #must be square to fit in grid\n",
    "seeds = np.random.randn(num_generated_images, latent_dim).astype(np.float32)"
   ]
  },
  {
   "cell_type": "code",
   "execution_count": 682,
   "metadata": {
    "collapsed": false,
    "pycharm": {
     "name": "#%%\n"
    }
   },
   "outputs": [],
   "source": [
    "def discriminator(input_shape=(image_size, image_size, 3)):\n",
    "    # Initialize a Sequential model\n",
    "    discriminator_model = Sequential()\n",
    "\n",
    "    # Add a convolutional layer with 64 filters, 5x5 kernel size, stride of 2, and LeakyReLU activation\n",
    "    discriminator_model.add(Conv2D(64, (5, 5), strides=(2, 2), padding='same', input_shape=input_shape))\n",
    "    discriminator_model.add(BatchNormalization())\n",
    "    discriminator_model.add(LeakyReLU(alpha=0.2))\n",
    "\n",
    "    # Add a convolutional layer with 128 filters, 5x5 kernel size, stride of 2, BatchNormalization, and LeakyReLU activation\n",
    "    discriminator_model.add(Conv2D(128, (5, 5), strides=(2, 2), padding='same'))\n",
    "    discriminator_model.add(BatchNormalization())\n",
    "    discriminator_model.add(LeakyReLU(alpha=0.2))\n",
    "\n",
    "    # Add a convolutional layer with 256 filters, 5x5 kernel size, stride of 2, BatchNormalization, and LeakyReLU activation\n",
    "    discriminator_model.add(Conv2D(256, (5, 5), strides=(2, 2), padding='same'))\n",
    "    discriminator_model.add(BatchNormalization())\n",
    "    discriminator_model.add(LeakyReLU(alpha=0.2))\n",
    "\n",
    "    # Add a convolutional layer with 512 filters, 5x5 kernel size, stride of 2, BatchNormalization, and LeakyReLU activation\n",
    "    discriminator_model.add(Conv2D(512, (5, 5), strides=(2, 2), padding='same'))\n",
    "    discriminator_model.add(BatchNormalization())\n",
    "    discriminator_model.add(LeakyReLU(alpha=0.2))\n",
    "\n",
    "    # Flatten the output of the convolutional layers into a one-dimensional vector\n",
    "    discriminator_model.add(Flatten())\n",
    "    discriminator_model.add(Dropout(0.3))\n",
    "\n",
    "    # Add a fully connected layer with 1 output and a sigmoid activation function\n",
    "    discriminator_model.add(Dense(1, activation='sigmoid'))\n",
    "\n",
    "    # # compile model with learning rate decay\n",
    "    opt = Adam(learning_rate=ExponentialDecay(initial_learning_rate=0.0001, decay_steps=1000, decay_rate=0.9), beta_1=0.5)\n",
    "    discriminator_model.compile(loss='binary_crossentropy', optimizer=opt, metrics=['accuracy'])\n",
    "\n",
    "    # Return the model\n",
    "    return discriminator_model"
   ]
  },
  {
   "cell_type": "code",
   "execution_count": 683,
   "metadata": {
    "collapsed": false,
    "pycharm": {
     "name": "#%%\n"
    }
   },
   "outputs": [],
   "source": [
    "d = discriminator()"
   ]
  },
  {
   "cell_type": "code",
   "execution_count": 684,
   "metadata": {
    "collapsed": false,
    "pycharm": {
     "name": "#%%\n"
    }
   },
   "outputs": [
    {
     "name": "stdout",
     "output_type": "stream",
     "text": [
      "Model: \"sequential_81\"\n",
      "_________________________________________________________________\n",
      " Layer (type)                Output Shape              Param #   \n",
      "=================================================================\n",
      " conv2d_126 (Conv2D)         (None, 32, 32, 64)        4864      \n",
      "                                                                 \n",
      " batch_normalization_124 (Ba  (None, 32, 32, 64)       256       \n",
      " tchNormalization)                                               \n",
      "                                                                 \n",
      " leaky_re_lu_197 (LeakyReLU)  (None, 32, 32, 64)       0         \n",
      "                                                                 \n",
      " conv2d_127 (Conv2D)         (None, 16, 16, 128)       204928    \n",
      "                                                                 \n",
      " batch_normalization_125 (Ba  (None, 16, 16, 128)      512       \n",
      " tchNormalization)                                               \n",
      "                                                                 \n",
      " leaky_re_lu_198 (LeakyReLU)  (None, 16, 16, 128)      0         \n",
      "                                                                 \n",
      " conv2d_128 (Conv2D)         (None, 8, 8, 256)         819456    \n",
      "                                                                 \n",
      " batch_normalization_126 (Ba  (None, 8, 8, 256)        1024      \n",
      " tchNormalization)                                               \n",
      "                                                                 \n",
      " leaky_re_lu_199 (LeakyReLU)  (None, 8, 8, 256)        0         \n",
      "                                                                 \n",
      " conv2d_129 (Conv2D)         (None, 4, 4, 512)         3277312   \n",
      "                                                                 \n",
      " batch_normalization_127 (Ba  (None, 4, 4, 512)        2048      \n",
      " tchNormalization)                                               \n",
      "                                                                 \n",
      " leaky_re_lu_200 (LeakyReLU)  (None, 4, 4, 512)        0         \n",
      "                                                                 \n",
      " flatten_27 (Flatten)        (None, 8192)              0         \n",
      "                                                                 \n",
      " dropout_18 (Dropout)        (None, 8192)              0         \n",
      "                                                                 \n",
      " dense_54 (Dense)            (None, 1)                 8193      \n",
      "                                                                 \n",
      "=================================================================\n",
      "Total params: 4,318,593\n",
      "Trainable params: 4,316,673\n",
      "Non-trainable params: 1,920\n",
      "_________________________________________________________________\n"
     ]
    }
   ],
   "source": [
    "d.summary()"
   ]
  },
  {
   "cell_type": "code",
   "execution_count": 685,
   "metadata": {
    "collapsed": false,
    "pycharm": {
     "name": "#%%\n"
    }
   },
   "outputs": [],
   "source": [
    "def generator(latent_dim):\n",
    "    # Create the generator model\n",
    "    generator_model = Sequential()\n",
    "\n",
    "    # Dense layer to map the noise vector to a higher-dimensional feature space\n",
    "    generator_model.add(Dense(units=8 * 8 * 256, input_shape=(latent_dim,)))\n",
    "    generator_model.add(LeakyReLU(alpha=0.2))\n",
    "    generator_model.add(Reshape(target_shape=(8, 8, 256)))\n",
    "    # Output shape: (batch_size, 8, 8, 256)\n",
    "\n",
    "    # Transposed convolutional layers to upsample the noise vector into an image\n",
    "    generator_model.add(Conv2DTranspose(filters=64, kernel_size=(4, 4), strides=(2, 2), padding='same'))\n",
    "    generator_model.add(LeakyReLU(alpha=0.2))\n",
    "    # Output shape: (batch_size, 16, 16, 64)\n",
    "\n",
    "    generator_model.add(Conv2DTranspose(filters=32, kernel_size=(4, 4), strides=(2, 2), padding='same'))\n",
    "    generator_model.add(LeakyReLU(alpha=0.2))\n",
    "    # Output shape: (batch_size, 32, 32, 32)\n",
    "\n",
    "    # Final transposed convolutional layer to generate 64x64 color images with 3 channels (RGB)\n",
    "    generator_model.add(Conv2DTranspose(filters=3, kernel_size=(4, 4), strides=(2, 2), padding='same'))\n",
    "    # Output shape: (batch_size, 64, 64, 3)\n",
    "\n",
    "    generator_model.add(Conv2D(3, (5, 5), padding=\"same\", activation=\"tanh\"))\n",
    "\n",
    "    return generator_model\n"
   ]
  },
  {
   "cell_type": "code",
   "execution_count": 686,
   "metadata": {
    "collapsed": false,
    "pycharm": {
     "name": "#%%\n"
    }
   },
   "outputs": [],
   "source": [
    "g = generator(latent_dim)"
   ]
  },
  {
   "cell_type": "code",
   "execution_count": 687,
   "metadata": {
    "collapsed": false,
    "pycharm": {
     "name": "#%%\n"
    }
   },
   "outputs": [
    {
     "name": "stdout",
     "output_type": "stream",
     "text": [
      "Model: \"sequential_82\"\n",
      "_________________________________________________________________\n",
      " Layer (type)                Output Shape              Param #   \n",
      "=================================================================\n",
      " dense_55 (Dense)            (None, 16384)             1654784   \n",
      "                                                                 \n",
      " leaky_re_lu_201 (LeakyReLU)  (None, 16384)            0         \n",
      "                                                                 \n",
      " reshape_27 (Reshape)        (None, 8, 8, 256)         0         \n",
      "                                                                 \n",
      " conv2d_transpose_89 (Conv2D  (None, 16, 16, 64)       262208    \n",
      " Transpose)                                                      \n",
      "                                                                 \n",
      " leaky_re_lu_202 (LeakyReLU)  (None, 16, 16, 64)       0         \n",
      "                                                                 \n",
      " conv2d_transpose_90 (Conv2D  (None, 32, 32, 32)       32800     \n",
      " Transpose)                                                      \n",
      "                                                                 \n",
      " leaky_re_lu_203 (LeakyReLU)  (None, 32, 32, 32)       0         \n",
      "                                                                 \n",
      " conv2d_transpose_91 (Conv2D  (None, 64, 64, 3)        1539      \n",
      " Transpose)                                                      \n",
      "                                                                 \n",
      " conv2d_130 (Conv2D)         (None, 64, 64, 3)         228       \n",
      "                                                                 \n",
      "=================================================================\n",
      "Total params: 1,951,559\n",
      "Trainable params: 1,951,559\n",
      "Non-trainable params: 0\n",
      "_________________________________________________________________\n"
     ]
    }
   ],
   "source": [
    "g.summary()"
   ]
  },
  {
   "cell_type": "code",
   "execution_count": 688,
   "metadata": {},
   "outputs": [],
   "source": [
    "def gan(gen, discrim):\n",
    "\n",
    "    discrim.trainable = False\n",
    "\n",
    "    model = Sequential()\n",
    "    model.add(gen)\n",
    "    model.add(discrim)\n",
    "\n",
    "    #use learning rate decay\n",
    "    opt = Adam(learning_rate=ExponentialDecay(initial_learning_rate=0.0003, decay_steps=1000, decay_rate=0.9), beta_1=0.5)\n",
    "    model.compile(loss='binary_crossentropy', optimizer=opt)\n",
    "\n",
    "    return model"
   ]
  },
  {
   "cell_type": "code",
   "execution_count": 689,
   "metadata": {
    "collapsed": false,
    "pycharm": {
     "name": "#%%\n"
    }
   },
   "outputs": [],
   "source": [
    "gan = gan(g, d)"
   ]
  },
  {
   "cell_type": "code",
   "execution_count": 690,
   "metadata": {
    "collapsed": false,
    "pycharm": {
     "name": "#%%\n"
    }
   },
   "outputs": [
    {
     "name": "stdout",
     "output_type": "stream",
     "text": [
      "Model: \"sequential_83\"\n",
      "_________________________________________________________________\n",
      " Layer (type)                Output Shape              Param #   \n",
      "=================================================================\n",
      " sequential_82 (Sequential)  (None, 64, 64, 3)         1951559   \n",
      "                                                                 \n",
      " sequential_81 (Sequential)  (None, 1)                 4318593   \n",
      "                                                                 \n",
      "=================================================================\n",
      "Total params: 6,270,152\n",
      "Trainable params: 1,951,559\n",
      "Non-trainable params: 4,318,593\n",
      "_________________________________________________________________\n"
     ]
    }
   ],
   "source": [
    "gan.summary()"
   ]
  },
  {
   "cell_type": "code",
   "execution_count": 691,
   "metadata": {
    "collapsed": false,
    "pycharm": {
     "name": "#%%\n"
    }
   },
   "outputs": [],
   "source": [
    "def generate_latent_points(lat_dim, n_samples):\n",
    "\n",
    "    assert lat_dim > 0 and n_samples > 0\n",
    "\n",
    "    x_input = np.random.randn(n_samples, lat_dim)\n",
    "\n",
    "    return x_input"
   ]
  },
  {
   "cell_type": "code",
   "execution_count": 692,
   "metadata": {
    "collapsed": false,
    "pycharm": {
     "name": "#%%\n"
    }
   },
   "outputs": [],
   "source": [
    "def generate_fake_samples(gen, lat_dim, n_samples, seeds=None):\n",
    "\n",
    "    x_input = generate_latent_points(lat_dim, int(n_samples)) if seeds is None else seeds\n",
    "\n",
    "    x_fake = gen.predict(x_input, verbose=0)\n",
    "\n",
    "    return x_fake"
   ]
  },
  {
   "cell_type": "code",
   "execution_count": 693,
   "metadata": {
    "collapsed": false,
    "pycharm": {
     "name": "#%%\n"
    }
   },
   "outputs": [],
   "source": [
    "def get_real_samples(n_samples):\n",
    "    ix = np.random.randint(0, X.shape[0], int(n_samples))\n",
    "    \n",
    "    x_real = X[ix]\n",
    "    x_real.reshape(n_samples, image_size, image_size, 3)\n",
    "    \n",
    "    return x_real"
   ]
  },
  {
   "cell_type": "code",
   "execution_count": 694,
   "metadata": {
    "collapsed": false,
    "pycharm": {
     "name": "#%%\n"
    }
   },
   "outputs": [],
   "source": [
    "def generate_and_save_images(gen, epoch):\n",
    "\n",
    "    #produces a square of n x n images\n",
    "    n = int(np.sqrt(num_generated_images))\n",
    "\n",
    "    x_fake = generate_fake_samples(gen, latent_dim, num_generated_images, seeds)\n",
    "\n",
    "    x_fake = x_fake.reshape((n*n, image_size, image_size, 3))\n",
    "\n",
    "    for im in range(n**2):\n",
    "        #scale to [0,1]\n",
    "        x_fake[im] = (x_fake[im] + 1) / 2.0\n",
    "        plt.subplot(n, n, 1 + im)\n",
    "        plt.axis('off')\n",
    "        plt.imshow(np.clip(cv2.cvtColor(x_fake[im], cv2.COLOR_BGR2RGB), 0, 1))\n",
    "\n",
    "    plt.suptitle(f'Epoch {epoch + 1}')\n",
    "\n",
    "    plt.savefig(f'images/epoch_{epoch + 1}.png')"
   ]
  },
  {
   "cell_type": "code",
   "execution_count": 695,
   "metadata": {
    "collapsed": false,
    "pycharm": {
     "name": "#%%\n"
    }
   },
   "outputs": [],
   "source": [
    "g_losses = []\n",
    "d_losses = []\n",
    "g_acc = []\n",
    "d_acc = []"
   ]
  },
  {
   "cell_type": "code",
   "execution_count": 696,
   "metadata": {},
   "outputs": [],
   "source": [
    "def test_accuracy(gen, discrim, n_tests=100):\n",
    "\n",
    "    x_real = get_real_samples(n_tests)\n",
    "\n",
    "    x_fake = generate_fake_samples(gen, latent_dim, n_tests)\n",
    "\n",
    "    y_real = np.ones((int(n_tests), 1))\n",
    "\n",
    "    y_fake = np.zeros((int(n_tests), 1))\n",
    "\n",
    "    _, acc_real = discrim.evaluate(x_real, y_real, verbose=0)\n",
    "\n",
    "    _, acc_fake = discrim.evaluate(x_fake, y_fake, verbose=0)\n",
    "\n",
    "    print(f'Accuracy real: {acc_real * 100:.2f}% Accuracy fake: {acc_fake * 100:.2f}%')\n",
    "\n",
    "    g_acc.append(acc_fake)\n",
    "    d_acc.append(acc_real)"
   ]
  },
  {
   "cell_type": "code",
   "execution_count": 697,
   "metadata": {
    "collapsed": false,
    "pycharm": {
     "name": "#%%\n"
    }
   },
   "outputs": [],
   "source": [
    "d_losses = []\n",
    "g_losses = []\n",
    "\n",
    "def train_gan(gen, discrim, gan_model, lat_dim, epochs=128, batch_size=64, label_smoothing=0.9):\n",
    "    \n",
    "    assert batch_size > 1 and epochs > 0\n",
    "    \n",
    "    for e in range(epochs):\n",
    "        \n",
    "        #batches\n",
    "        for _ in range(int(len(X) / batch_size)):\n",
    "            \n",
    "            # Add noise to the real data\n",
    "            x_real = get_real_samples(int(batch_size / 2))\n",
    "            x_real = x_real + np.random.normal(0, 0.1, size=x_real.shape)\n",
    "            \n",
    "            # Generate fake data and add noise\n",
    "            x_fake = generate_fake_samples(gen, lat_dim, int(batch_size / 2))\n",
    "            x_fake = x_fake + np.random.normal(0, 0.1, size=x_fake.shape)\n",
    "            \n",
    "            # Concatenate real and fake data\n",
    "            x = np.vstack((x_real, x_fake))\n",
    "            y_real = np.ones((int(batch_size / 2), 1)) * label_smoothing\n",
    "            y_fake = np.zeros((int(batch_size / 2), 1))\n",
    "            y = np.vstack((y_real, y_fake))\n",
    "\n",
    "            # Shuffle the concatenated arrays\n",
    "            shuffle_indices = np.random.permutation(batch_size)\n",
    "            x = x[shuffle_indices]\n",
    "            y = y[shuffle_indices]\n",
    "            \n",
    "            # Train the discriminator\n",
    "            d_loss, _ = discrim.train_on_batch(x, y)\n",
    "\n",
    "            # Generate points in latent space\n",
    "            x_gan = generate_latent_points(latent_dim, batch_size)\n",
    "\n",
    "            # Label as real\n",
    "            y_gan = np.ones((batch_size, 1))\n",
    "\n",
    "            # Train the generator through the GAN model\n",
    "            g_loss = gan_model.train_on_batch(x_gan, y_gan)\n",
    "\n",
    "            d_losses.append(d_loss)\n",
    "            g_losses.append(g_loss)\n",
    "        \n",
    "        # Save generated images every epoch\n",
    "        generate_and_save_images(gen, e)\n",
    "\n",
    "        print(f'Epoch: {e+1}\\nDiscriminator Loss: {d_loss}, Generator Loss: {g_loss}')\n",
    "        test_accuracy(gen, discrim)\n",
    "        print()\n"
   ]
  },
  {
   "cell_type": "code",
   "execution_count": 698,
   "metadata": {
    "collapsed": false,
    "pycharm": {
     "name": "#%%\n"
    }
   },
   "outputs": [
    {
     "name": "stdout",
     "output_type": "stream",
     "text": [
      "Epoch: 1\n",
      "Discriminator Loss: 0.2125580608844757, Generator Loss: 2.7730607986450195\n",
      "Accuracy real: 0.00% Accuracy fake: 100.00%\n",
      "\n",
      "Epoch: 2\n",
      "Discriminator Loss: 0.2359052300453186, Generator Loss: 4.6971282958984375\n",
      "Accuracy real: 43.00% Accuracy fake: 100.00%\n",
      "\n",
      "Epoch: 3\n",
      "Discriminator Loss: 0.24831192195415497, Generator Loss: 5.543266296386719\n",
      "Accuracy real: 72.00% Accuracy fake: 100.00%\n",
      "\n",
      "Epoch: 4\n",
      "Discriminator Loss: 0.28044578433036804, Generator Loss: 2.987147092819214\n",
      "Accuracy real: 100.00% Accuracy fake: 100.00%\n",
      "\n",
      "Epoch: 5\n",
      "Discriminator Loss: 0.2443006932735443, Generator Loss: 3.8669471740722656\n",
      "Accuracy real: 100.00% Accuracy fake: 98.00%\n",
      "\n",
      "Epoch: 6\n",
      "Discriminator Loss: 0.217487633228302, Generator Loss: 4.12649393081665\n",
      "Accuracy real: 99.00% Accuracy fake: 100.00%\n",
      "\n",
      "Epoch: 7\n",
      "Discriminator Loss: 0.20361213386058807, Generator Loss: 1.324761986732483\n",
      "Accuracy real: 100.00% Accuracy fake: 65.00%\n",
      "\n",
      "Epoch: 8\n",
      "Discriminator Loss: 0.23025646805763245, Generator Loss: 0.4905969500541687\n",
      "Accuracy real: 100.00% Accuracy fake: 21.00%\n",
      "\n",
      "Epoch: 9\n",
      "Discriminator Loss: 0.21506693959236145, Generator Loss: 2.999213218688965\n",
      "Accuracy real: 100.00% Accuracy fake: 99.00%\n",
      "\n",
      "Epoch: 10\n",
      "Discriminator Loss: 0.30519044399261475, Generator Loss: 3.1643333435058594\n",
      "Accuracy real: 100.00% Accuracy fake: 79.00%\n",
      "\n",
      "Epoch: 11\n",
      "Discriminator Loss: 0.21358191967010498, Generator Loss: 0.902880072593689\n",
      "Accuracy real: 100.00% Accuracy fake: 26.00%\n",
      "\n",
      "Epoch: 12\n",
      "Discriminator Loss: 0.223506897687912, Generator Loss: 4.629633903503418\n",
      "Accuracy real: 97.00% Accuracy fake: 99.00%\n",
      "\n",
      "Epoch: 13\n",
      "Discriminator Loss: 0.21138499677181244, Generator Loss: 2.215578317642212\n",
      "Accuracy real: 99.00% Accuracy fake: 82.00%\n",
      "\n",
      "Epoch: 14\n",
      "Discriminator Loss: 0.19025126099586487, Generator Loss: 1.1305043697357178\n",
      "Accuracy real: 100.00% Accuracy fake: 56.00%\n",
      "\n",
      "Epoch: 15\n",
      "Discriminator Loss: 0.21750792860984802, Generator Loss: 1.3901976346969604\n",
      "Accuracy real: 99.00% Accuracy fake: 45.00%\n",
      "\n",
      "Epoch: 16\n",
      "Discriminator Loss: 0.19612781703472137, Generator Loss: 0.8332247734069824\n",
      "Accuracy real: 100.00% Accuracy fake: 46.00%\n",
      "\n",
      "Epoch: 17\n",
      "Discriminator Loss: 0.18165236711502075, Generator Loss: 0.8556026220321655\n",
      "Accuracy real: 100.00% Accuracy fake: 34.00%\n",
      "\n",
      "Epoch: 18\n",
      "Discriminator Loss: 0.21929103136062622, Generator Loss: 1.1097708940505981\n",
      "Accuracy real: 100.00% Accuracy fake: 36.00%\n",
      "\n",
      "Epoch: 19\n",
      "Discriminator Loss: 0.2323000133037567, Generator Loss: 16.46685791015625\n",
      "Accuracy real: 64.00% Accuracy fake: 100.00%\n",
      "\n",
      "Epoch: 20\n",
      "Discriminator Loss: 0.20673416554927826, Generator Loss: 0.35652631521224976\n",
      "Accuracy real: 100.00% Accuracy fake: 7.00%\n",
      "\n",
      "Epoch: 21\n",
      "Discriminator Loss: 0.20289823412895203, Generator Loss: 0.1961537003517151\n",
      "Accuracy real: 100.00% Accuracy fake: 1.00%\n",
      "\n",
      "Epoch: 22\n",
      "Discriminator Loss: 0.17127791047096252, Generator Loss: 0.33307117223739624\n",
      "Accuracy real: 100.00% Accuracy fake: 5.00%\n",
      "\n",
      "Epoch: 23\n",
      "Discriminator Loss: 0.17590686678886414, Generator Loss: 0.4369889497756958\n",
      "Accuracy real: 100.00% Accuracy fake: 6.00%\n",
      "\n",
      "Epoch: 24\n",
      "Discriminator Loss: 0.17369472980499268, Generator Loss: 0.13990339636802673\n",
      "Accuracy real: 100.00% Accuracy fake: 0.00%\n",
      "\n",
      "Epoch: 25\n",
      "Discriminator Loss: 0.1746836155653, Generator Loss: 0.08467306941747665\n",
      "Accuracy real: 100.00% Accuracy fake: 0.00%\n",
      "\n",
      "Epoch: 26\n",
      "Discriminator Loss: 0.17668917775154114, Generator Loss: 0.187432661652565\n",
      "Accuracy real: 100.00% Accuracy fake: 0.00%\n",
      "\n",
      "Epoch: 27\n",
      "Discriminator Loss: 0.17758652567863464, Generator Loss: 0.24369379878044128\n",
      "Accuracy real: 100.00% Accuracy fake: 0.00%\n",
      "\n",
      "Epoch: 28\n",
      "Discriminator Loss: 0.1755666881799698, Generator Loss: 0.15701258182525635\n",
      "Accuracy real: 100.00% Accuracy fake: 0.00%\n",
      "\n",
      "Epoch: 29\n",
      "Discriminator Loss: 0.1685345619916916, Generator Loss: 0.25065168738365173\n",
      "Accuracy real: 100.00% Accuracy fake: 0.00%\n",
      "\n",
      "Epoch: 30\n",
      "Discriminator Loss: 0.1899864673614502, Generator Loss: 23.20075225830078\n",
      "Accuracy real: 36.00% Accuracy fake: 100.00%\n",
      "\n",
      "Epoch: 31\n",
      "Discriminator Loss: 0.262345552444458, Generator Loss: 0.4613366425037384\n",
      "Accuracy real: 100.00% Accuracy fake: 15.00%\n",
      "\n",
      "Epoch: 32\n",
      "Discriminator Loss: 0.17379678785800934, Generator Loss: 0.149676114320755\n",
      "Accuracy real: 100.00% Accuracy fake: 0.00%\n",
      "\n",
      "Epoch: 33\n",
      "Discriminator Loss: 0.17320051789283752, Generator Loss: 0.1275431215763092\n",
      "Accuracy real: 100.00% Accuracy fake: 0.00%\n",
      "\n",
      "Epoch: 34\n",
      "Discriminator Loss: 0.16967518627643585, Generator Loss: 0.16834169626235962\n",
      "Accuracy real: 100.00% Accuracy fake: 1.00%\n",
      "\n",
      "Epoch: 35\n",
      "Discriminator Loss: 0.16789399087429047, Generator Loss: 0.08260419964790344\n",
      "Accuracy real: 100.00% Accuracy fake: 0.00%\n",
      "\n",
      "Epoch: 36\n",
      "Discriminator Loss: 0.16590946912765503, Generator Loss: 0.1045190766453743\n",
      "Accuracy real: 100.00% Accuracy fake: 0.00%\n",
      "\n",
      "Epoch: 37\n",
      "Discriminator Loss: 0.1668984740972519, Generator Loss: 0.11021463572978973\n",
      "Accuracy real: 100.00% Accuracy fake: 0.00%\n",
      "\n",
      "Epoch: 38\n",
      "Discriminator Loss: 0.16656561195850372, Generator Loss: 0.08559255301952362\n",
      "Accuracy real: 100.00% Accuracy fake: 0.00%\n",
      "\n",
      "Epoch: 39\n",
      "Discriminator Loss: 0.16708989441394806, Generator Loss: 0.07222515344619751\n",
      "Accuracy real: 100.00% Accuracy fake: 0.00%\n",
      "\n",
      "Epoch: 40\n",
      "Discriminator Loss: 0.16981156170368195, Generator Loss: 0.1681363582611084\n",
      "Accuracy real: 100.00% Accuracy fake: 0.00%\n",
      "\n",
      "Epoch: 41\n",
      "Discriminator Loss: 0.18558594584465027, Generator Loss: 0.08430378139019012\n",
      "Accuracy real: 100.00% Accuracy fake: 0.00%\n",
      "\n",
      "Epoch: 42\n",
      "Discriminator Loss: 0.19234074652194977, Generator Loss: 0.39362233877182007\n",
      "Accuracy real: 100.00% Accuracy fake: 5.00%\n",
      "\n",
      "Epoch: 43\n",
      "Discriminator Loss: 0.16679701209068298, Generator Loss: 0.25769752264022827\n",
      "Accuracy real: 100.00% Accuracy fake: 0.00%\n",
      "\n",
      "Epoch: 44\n",
      "Discriminator Loss: 0.22404344379901886, Generator Loss: 3.2588820457458496\n",
      "Accuracy real: 94.00% Accuracy fake: 99.00%\n",
      "\n",
      "Epoch: 45\n",
      "Discriminator Loss: 0.1841239035129547, Generator Loss: 0.21491950750350952\n",
      "Accuracy real: 100.00% Accuracy fake: 4.00%\n",
      "\n",
      "Epoch: 46\n",
      "Discriminator Loss: 0.16990312933921814, Generator Loss: 0.09004917740821838\n",
      "Accuracy real: 100.00% Accuracy fake: 0.00%\n",
      "\n",
      "Epoch: 47\n",
      "Discriminator Loss: 0.16980384290218353, Generator Loss: 0.0735769271850586\n",
      "Accuracy real: 100.00% Accuracy fake: 0.00%\n",
      "\n",
      "Epoch: 48\n",
      "Discriminator Loss: 0.16559404134750366, Generator Loss: 0.08223626017570496\n",
      "Accuracy real: 100.00% Accuracy fake: 0.00%\n",
      "\n",
      "Epoch: 49\n",
      "Discriminator Loss: 0.16627250611782074, Generator Loss: 0.07264752686023712\n",
      "Accuracy real: 100.00% Accuracy fake: 0.00%\n",
      "\n",
      "Epoch: 50\n",
      "Discriminator Loss: 0.16817012429237366, Generator Loss: 0.0821913331747055\n",
      "Accuracy real: 100.00% Accuracy fake: 0.00%\n",
      "\n",
      "Epoch: 51\n",
      "Discriminator Loss: 0.16532370448112488, Generator Loss: 0.06539884209632874\n",
      "Accuracy real: 100.00% Accuracy fake: 0.00%\n",
      "\n",
      "Epoch: 52\n",
      "Discriminator Loss: 0.1654122769832611, Generator Loss: 0.04659862071275711\n",
      "Accuracy real: 100.00% Accuracy fake: 0.00%\n",
      "\n",
      "Epoch: 53\n",
      "Discriminator Loss: 0.17044071853160858, Generator Loss: 0.03939034417271614\n",
      "Accuracy real: 100.00% Accuracy fake: 0.00%\n",
      "\n",
      "Epoch: 54\n",
      "Discriminator Loss: 0.16524142026901245, Generator Loss: 0.07376731187105179\n",
      "Accuracy real: 100.00% Accuracy fake: 0.00%\n",
      "\n",
      "Epoch: 55\n",
      "Discriminator Loss: 0.16445274651050568, Generator Loss: 0.06507331132888794\n",
      "Accuracy real: 100.00% Accuracy fake: 0.00%\n",
      "\n",
      "Epoch: 56\n",
      "Discriminator Loss: 0.16623517870903015, Generator Loss: 0.04266875982284546\n",
      "Accuracy real: 100.00% Accuracy fake: 0.00%\n",
      "\n",
      "Epoch: 57\n",
      "Discriminator Loss: 0.1647634208202362, Generator Loss: 0.07062682509422302\n",
      "Accuracy real: 100.00% Accuracy fake: 0.00%\n",
      "\n",
      "Epoch: 58\n",
      "Discriminator Loss: 0.1645018458366394, Generator Loss: 0.039682358503341675\n",
      "Accuracy real: 100.00% Accuracy fake: 0.00%\n",
      "\n",
      "Epoch: 59\n",
      "Discriminator Loss: 0.16432823240756989, Generator Loss: 0.06286965310573578\n",
      "Accuracy real: 100.00% Accuracy fake: 0.00%\n",
      "\n",
      "Epoch: 60\n",
      "Discriminator Loss: 0.1638217270374298, Generator Loss: 0.055718064308166504\n",
      "Accuracy real: 100.00% Accuracy fake: 0.00%\n",
      "\n",
      "Epoch: 61\n",
      "Discriminator Loss: 0.16411451995372772, Generator Loss: 0.07339152693748474\n",
      "Accuracy real: 100.00% Accuracy fake: 0.00%\n",
      "\n",
      "Epoch: 62\n",
      "Discriminator Loss: 0.16427083313465118, Generator Loss: 0.11864716559648514\n",
      "Accuracy real: 100.00% Accuracy fake: 0.00%\n",
      "\n",
      "Epoch: 63\n",
      "Discriminator Loss: 0.16513407230377197, Generator Loss: 0.1200558990240097\n",
      "Accuracy real: 100.00% Accuracy fake: 0.00%\n",
      "\n",
      "Epoch: 64\n",
      "Discriminator Loss: 0.17167624831199646, Generator Loss: 0.37319910526275635\n",
      "Accuracy real: 100.00% Accuracy fake: 8.00%\n",
      "\n",
      "Epoch: 65\n",
      "Discriminator Loss: 0.16956773400306702, Generator Loss: 0.058730561286211014\n",
      "Accuracy real: 100.00% Accuracy fake: 0.00%\n",
      "\n",
      "Epoch: 66\n",
      "Discriminator Loss: 0.1671581119298935, Generator Loss: 0.07258236408233643\n",
      "Accuracy real: 100.00% Accuracy fake: 0.00%\n",
      "\n",
      "Epoch: 67\n",
      "Discriminator Loss: 0.16968591511249542, Generator Loss: 0.05241364985704422\n",
      "Accuracy real: 100.00% Accuracy fake: 0.00%\n",
      "\n",
      "Epoch: 68\n",
      "Discriminator Loss: 0.16373586654663086, Generator Loss: 0.05674703046679497\n",
      "Accuracy real: 100.00% Accuracy fake: 0.00%\n",
      "\n",
      "Epoch: 69\n",
      "Discriminator Loss: 0.16462862491607666, Generator Loss: 0.06037749722599983\n",
      "Accuracy real: 100.00% Accuracy fake: 0.00%\n",
      "\n",
      "Epoch: 70\n",
      "Discriminator Loss: 0.16452360153198242, Generator Loss: 0.028552182018756866\n",
      "Accuracy real: 100.00% Accuracy fake: 0.00%\n",
      "\n",
      "Epoch: 71\n",
      "Discriminator Loss: 0.16334107518196106, Generator Loss: 0.05314695090055466\n",
      "Accuracy real: 100.00% Accuracy fake: 0.00%\n",
      "\n",
      "Epoch: 72\n",
      "Discriminator Loss: 0.16383635997772217, Generator Loss: 0.041253045201301575\n",
      "Accuracy real: 100.00% Accuracy fake: 0.00%\n",
      "\n",
      "Epoch: 73\n",
      "Discriminator Loss: 0.16402411460876465, Generator Loss: 0.04822161793708801\n",
      "Accuracy real: 100.00% Accuracy fake: 0.00%\n",
      "\n",
      "Epoch: 74\n",
      "Discriminator Loss: 0.16379353404045105, Generator Loss: 0.0434015691280365\n",
      "Accuracy real: 100.00% Accuracy fake: 0.00%\n",
      "\n",
      "Epoch: 75\n",
      "Discriminator Loss: 0.16379721462726593, Generator Loss: 0.034100040793418884\n",
      "Accuracy real: 100.00% Accuracy fake: 0.00%\n",
      "\n",
      "Epoch: 76\n",
      "Discriminator Loss: 0.16399827599525452, Generator Loss: 0.07280786335468292\n",
      "Accuracy real: 100.00% Accuracy fake: 0.00%\n",
      "\n",
      "Epoch: 77\n",
      "Discriminator Loss: 0.16438865661621094, Generator Loss: 0.05430774763226509\n",
      "Accuracy real: 100.00% Accuracy fake: 0.00%\n",
      "\n",
      "Epoch: 78\n",
      "Discriminator Loss: 0.1648036688566208, Generator Loss: 0.04192992299795151\n",
      "Accuracy real: 100.00% Accuracy fake: 0.00%\n",
      "\n",
      "Epoch: 79\n",
      "Discriminator Loss: 0.16537126898765564, Generator Loss: 0.029992621392011642\n",
      "Accuracy real: 100.00% Accuracy fake: 0.00%\n",
      "\n",
      "Epoch: 80\n",
      "Discriminator Loss: 0.16571539640426636, Generator Loss: 0.04536498337984085\n",
      "Accuracy real: 100.00% Accuracy fake: 0.00%\n",
      "\n",
      "Epoch: 81\n",
      "Discriminator Loss: 0.16363725066184998, Generator Loss: 0.05812182277441025\n",
      "Accuracy real: 100.00% Accuracy fake: 0.00%\n",
      "\n",
      "Epoch: 82\n",
      "Discriminator Loss: 0.16404908895492554, Generator Loss: 0.055000465363264084\n",
      "Accuracy real: 100.00% Accuracy fake: 0.00%\n",
      "\n",
      "Epoch: 83\n",
      "Discriminator Loss: 0.16646379232406616, Generator Loss: 0.03354869782924652\n",
      "Accuracy real: 100.00% Accuracy fake: 0.00%\n",
      "\n",
      "Epoch: 84\n",
      "Discriminator Loss: 0.1639772355556488, Generator Loss: 0.03975626081228256\n",
      "Accuracy real: 100.00% Accuracy fake: 0.00%\n",
      "\n",
      "Epoch: 85\n",
      "Discriminator Loss: 0.1635531783103943, Generator Loss: 0.04026009142398834\n",
      "Accuracy real: 100.00% Accuracy fake: 0.00%\n",
      "\n",
      "Epoch: 86\n",
      "Discriminator Loss: 0.16521808505058289, Generator Loss: 0.026570044457912445\n",
      "Accuracy real: 100.00% Accuracy fake: 0.00%\n",
      "\n",
      "Epoch: 87\n",
      "Discriminator Loss: 0.16366222500801086, Generator Loss: 0.030162399634718895\n",
      "Accuracy real: 100.00% Accuracy fake: 0.00%\n",
      "\n",
      "Epoch: 88\n",
      "Discriminator Loss: 0.1638573706150055, Generator Loss: 0.03157220035791397\n",
      "Accuracy real: 100.00% Accuracy fake: 0.00%\n",
      "\n",
      "Epoch: 89\n",
      "Discriminator Loss: 0.16405680775642395, Generator Loss: 0.04002927243709564\n",
      "Accuracy real: 100.00% Accuracy fake: 0.00%\n",
      "\n",
      "Epoch: 90\n",
      "Discriminator Loss: 0.1633034646511078, Generator Loss: 0.043277546763420105\n",
      "Accuracy real: 100.00% Accuracy fake: 0.00%\n",
      "\n",
      "Epoch: 91\n",
      "Discriminator Loss: 0.16369664669036865, Generator Loss: 0.03402711823582649\n",
      "Accuracy real: 100.00% Accuracy fake: 0.00%\n",
      "\n",
      "Epoch: 92\n",
      "Discriminator Loss: 0.16325777769088745, Generator Loss: 0.029516451060771942\n",
      "Accuracy real: 100.00% Accuracy fake: 0.00%\n",
      "\n",
      "Epoch: 93\n",
      "Discriminator Loss: 0.16370004415512085, Generator Loss: 0.03308500722050667\n",
      "Accuracy real: 100.00% Accuracy fake: 0.00%\n",
      "\n",
      "Epoch: 94\n",
      "Discriminator Loss: 0.16455590724945068, Generator Loss: 0.025010284036397934\n",
      "Accuracy real: 100.00% Accuracy fake: 0.00%\n",
      "\n",
      "Epoch: 95\n",
      "Discriminator Loss: 0.16378635168075562, Generator Loss: 0.031927987933158875\n",
      "Accuracy real: 100.00% Accuracy fake: 0.00%\n",
      "\n",
      "Epoch: 96\n",
      "Discriminator Loss: 0.16325968503952026, Generator Loss: 0.03210899606347084\n",
      "Accuracy real: 100.00% Accuracy fake: 0.00%\n",
      "\n",
      "Epoch: 97\n",
      "Discriminator Loss: 0.16491732001304626, Generator Loss: 0.03422331064939499\n",
      "Accuracy real: 100.00% Accuracy fake: 0.00%\n",
      "\n",
      "Epoch: 98\n",
      "Discriminator Loss: 0.16359451413154602, Generator Loss: 0.028283702209591866\n",
      "Accuracy real: 100.00% Accuracy fake: 0.00%\n",
      "\n",
      "Epoch: 99\n",
      "Discriminator Loss: 0.1634097695350647, Generator Loss: 0.03475888445973396\n",
      "Accuracy real: 100.00% Accuracy fake: 0.00%\n",
      "\n",
      "Epoch: 100\n",
      "Discriminator Loss: 0.16320553421974182, Generator Loss: 0.028480177745223045\n",
      "Accuracy real: 100.00% Accuracy fake: 0.00%\n",
      "\n",
      "Epoch: 101\n",
      "Discriminator Loss: 0.16351893544197083, Generator Loss: 0.02848256565630436\n",
      "Accuracy real: 100.00% Accuracy fake: 0.00%\n",
      "\n",
      "Epoch: 102\n",
      "Discriminator Loss: 0.16320164501667023, Generator Loss: 0.02269122004508972\n",
      "Accuracy real: 100.00% Accuracy fake: 0.00%\n",
      "\n",
      "Epoch: 103\n",
      "Discriminator Loss: 0.16307982802391052, Generator Loss: 0.02161554805934429\n",
      "Accuracy real: 100.00% Accuracy fake: 0.00%\n",
      "\n",
      "Epoch: 104\n",
      "Discriminator Loss: 0.1631750762462616, Generator Loss: 0.02591666206717491\n",
      "Accuracy real: 100.00% Accuracy fake: 0.00%\n",
      "\n",
      "Epoch: 105\n",
      "Discriminator Loss: 0.16331109404563904, Generator Loss: 0.014858867041766644\n",
      "Accuracy real: 100.00% Accuracy fake: 0.00%\n",
      "\n",
      "Epoch: 106\n",
      "Discriminator Loss: 0.1631520539522171, Generator Loss: 0.018779300153255463\n",
      "Accuracy real: 100.00% Accuracy fake: 0.00%\n",
      "\n",
      "Epoch: 107\n",
      "Discriminator Loss: 0.16331882774829865, Generator Loss: 0.015801699832081795\n",
      "Accuracy real: 100.00% Accuracy fake: 0.00%\n",
      "\n",
      "Epoch: 108\n",
      "Discriminator Loss: 0.1633327603340149, Generator Loss: 0.018964311107993126\n",
      "Accuracy real: 100.00% Accuracy fake: 0.00%\n",
      "\n",
      "Epoch: 109\n",
      "Discriminator Loss: 0.1632443070411682, Generator Loss: 0.01821027137339115\n",
      "Accuracy real: 100.00% Accuracy fake: 0.00%\n",
      "\n",
      "Epoch: 110\n",
      "Discriminator Loss: 0.1633065640926361, Generator Loss: 0.021076763048768044\n",
      "Accuracy real: 100.00% Accuracy fake: 0.00%\n",
      "\n",
      "Epoch: 111\n",
      "Discriminator Loss: 0.1634535789489746, Generator Loss: 0.011318194679915905\n",
      "Accuracy real: 100.00% Accuracy fake: 0.00%\n",
      "\n",
      "Epoch: 112\n",
      "Discriminator Loss: 0.16398058831691742, Generator Loss: 0.00579695962369442\n",
      "Accuracy real: 100.00% Accuracy fake: 0.00%\n",
      "\n",
      "Epoch: 113\n",
      "Discriminator Loss: 0.16324225068092346, Generator Loss: 0.01822839118540287\n",
      "Accuracy real: 100.00% Accuracy fake: 0.00%\n",
      "\n",
      "Epoch: 114\n",
      "Discriminator Loss: 0.16293585300445557, Generator Loss: 0.01858557015657425\n",
      "Accuracy real: 100.00% Accuracy fake: 0.00%\n",
      "\n",
      "Epoch: 115\n",
      "Discriminator Loss: 0.16325323283672333, Generator Loss: 0.014363748952746391\n",
      "Accuracy real: 100.00% Accuracy fake: 0.00%\n",
      "\n",
      "Epoch: 116\n",
      "Discriminator Loss: 0.16293402016162872, Generator Loss: 0.013326638378202915\n",
      "Accuracy real: 100.00% Accuracy fake: 0.00%\n",
      "\n",
      "Epoch: 117\n",
      "Discriminator Loss: 0.16309013962745667, Generator Loss: 0.012896204367280006\n",
      "Accuracy real: 100.00% Accuracy fake: 0.00%\n",
      "\n",
      "Epoch: 118\n",
      "Discriminator Loss: 0.1631765216588974, Generator Loss: 0.011088787578046322\n",
      "Accuracy real: 100.00% Accuracy fake: 0.00%\n",
      "\n",
      "Epoch: 119\n",
      "Discriminator Loss: 0.16312456130981445, Generator Loss: 0.012919720262289047\n",
      "Accuracy real: 100.00% Accuracy fake: 0.00%\n",
      "\n",
      "Epoch: 120\n",
      "Discriminator Loss: 0.16295583546161652, Generator Loss: 0.015817750245332718\n",
      "Accuracy real: 100.00% Accuracy fake: 0.00%\n",
      "\n",
      "Epoch: 121\n",
      "Discriminator Loss: 0.20522260665893555, Generator Loss: 0.6353384256362915\n",
      "Accuracy real: 100.00% Accuracy fake: 0.00%\n",
      "\n",
      "Epoch: 122\n",
      "Discriminator Loss: 0.1632314771413803, Generator Loss: 0.02561861462891102\n",
      "Accuracy real: 100.00% Accuracy fake: 0.00%\n",
      "\n",
      "Epoch: 123\n",
      "Discriminator Loss: 0.1631138026714325, Generator Loss: 0.03196507692337036\n",
      "Accuracy real: 100.00% Accuracy fake: 0.00%\n",
      "\n",
      "Epoch: 124\n",
      "Discriminator Loss: 0.1631411910057068, Generator Loss: 0.030864810571074486\n",
      "Accuracy real: 100.00% Accuracy fake: 0.00%\n",
      "\n",
      "Epoch: 125\n",
      "Discriminator Loss: 0.1630740612745285, Generator Loss: 0.03178955242037773\n",
      "Accuracy real: 100.00% Accuracy fake: 0.00%\n",
      "\n",
      "Epoch: 126\n",
      "Discriminator Loss: 0.16306988894939423, Generator Loss: 0.01632549986243248\n",
      "Accuracy real: 100.00% Accuracy fake: 0.00%\n",
      "\n",
      "Epoch: 127\n",
      "Discriminator Loss: 0.16296029090881348, Generator Loss: 0.02674773707985878\n",
      "Accuracy real: 100.00% Accuracy fake: 0.00%\n",
      "\n",
      "Epoch: 128\n",
      "Discriminator Loss: 0.1629302203655243, Generator Loss: 0.03209171071648598\n",
      "Accuracy real: 100.00% Accuracy fake: 0.00%\n",
      "\n"
     ]
    },
    {
     "data": {
      "image/png": "[encoded data removed]",
      "text/plain": [
       "<Figure size 432x288 with 16 Axes>"
      ]
     },
     "metadata": {
      "needs_background": "light"
     },
     "output_type": "display_data"
    }
   ],
   "source": [
    "train_gan(g, d, gan, latent_dim)"
   ]
  },
  {
   "cell_type": "code",
   "execution_count": 699,
   "metadata": {},
   "outputs": [
    {
     "name": "stdout",
     "output_type": "stream",
     "text": [
      "WARNING:tensorflow:Compiled the loaded model, but the compiled metrics have yet to be built. `model.compile_metrics` will be empty until you train or evaluate the model.\n"
     ]
    }
   ],
   "source": [
    "#Save the models\n",
    "timestamp = datetime.now().strftime(\"%Y%m%d-%H%M%S\")\n",
    "#Make new directory for the models\n",
    "os.mkdir(f'models/{timestamp}')\n",
    "g.save(f'models/{timestamp}/generator.h5')\n",
    "d.save(f'models/{timestamp}/discriminator.h5')\n",
    "gan.save(f'models/{timestamp}/gan.h5')"
   ]
  },
  {
   "cell_type": "code",
   "execution_count": 700,
   "metadata": {
    "collapsed": false,
    "pycharm": {
     "name": "#%%\n"
    }
   },
   "outputs": [
    {
     "data": {
      "image/png": "[encoded data removed]",
      "text/plain": [
       "<Figure size 432x288 with 1 Axes>"
      ]
     },
     "metadata": {
      "needs_background": "light"
     },
     "output_type": "display_data"
    }
   ],
   "source": [
    "#Discriminator Accuracy\n",
    "plt.plot(g_acc, label='Fake Accuracy')\n",
    "plt.plot(d_acc, label='Real Accuracy')\n",
    "\n",
    "plt.xlabel(\"Epoch\")\n",
    "plt.ylabel(\"Model Accuracy\")\n",
    "plt.title('Discriminator Accuracy')\n",
    "plt.legend()\n",
    "\n",
    "plt.show()"
   ]
  },
  {
   "cell_type": "code",
   "execution_count": 701,
   "metadata": {},
   "outputs": [
    {
     "data": {
      "image/png": "[encoded data removed]",
      "text/plain": [
       "<Figure size 432x288 with 1 Axes>"
      ]
     },
     "metadata": {
      "needs_background": "light"
     },
     "output_type": "display_data"
    }
   ],
   "source": [
    "#Generator and Discriminator Loss\n",
    "plt.plot(g_losses, label='Generator Loss')\n",
    "plt.plot(d_losses, label='Discriminator Loss')\n",
    "\n",
    "plt.xlabel(\"Batch\")\n",
    "plt.ylabel(\"Model Loss\")\n",
    "plt.title('Generator and Discriminator Loss')\n",
    "plt.legend()\n",
    "\n",
    "plt.show()"
   ]
  },
  {
   "attachments": {},
   "cell_type": "markdown",
   "metadata": {},
   "source": [
    "## Sample Generated Images\n",
    "\n",
    "<img src=\"images/epoch_112.png\" alt=\"Generated Image\"  width=\"600\" />"
   ]
  },
  {
   "cell_type": "code",
   "execution_count": 713,
   "metadata": {},
   "outputs": [],
   "source": [
    "#Make training gif\n",
    "\n",
    "images = []\n",
    "for i in range(1, 129):\n",
    "    images.append(imageio.v2.imread(f'images/epoch_{i}.png'))\n",
    "imageio.mimsave('images/training.gif', images)"
   ]
  },
  {
   "attachments": {},
   "cell_type": "markdown",
   "metadata": {},
   "source": [
    "## Model Training\n",
    "\n",
    "<img src=\"images/training.gif\" alt=\"Training Gif\"  width=\"600\" />"
   ]
  },
  {
   "cell_type": "code",
   "execution_count": 727,
   "metadata": {},
   "outputs": [
    {
     "data": {
      "image/png": "[encoded data removed]",
      "text/plain": [
       "<Figure size 432x288 with 1 Axes>"
      ]
     },
     "metadata": {
      "needs_background": "light"
     },
     "output_type": "display_data"
    }
   ],
   "source": [
    "#Make sweep over latent space\n",
    "\n",
    "#Remove all images in the directory\n",
    "for file in os.listdir('images/latent_space'):\n",
    "    os.remove(os.path.join('images/latent_space', file))\n",
    "\n",
    "#Generate seed of all zeros\n",
    "seed = np.zeros((1, 100))\n",
    "\n",
    "num_images = 256\n",
    "\n",
    "#Set index of seed to 0\n",
    "\n",
    "#Sweep over latent space\n",
    "for i in range(0, num_images):\n",
    "    x_fake = generate_fake_samples(g, latent_dim, 1, seed)\n",
    "    x_fake = (x_fake + 1) / 2.0\n",
    "    plt.imshow(np.clip(cv2.cvtColor(x_fake[0], cv2.COLOR_BGR2RGB), 0, 1))\n",
    "    plt.axis('off')\n",
    "    plt.savefig(f'images/latent_space/{i}.png')\n",
    "    #Randomly step all values in the seed\n",
    "    seed = seed + np.random.normal(0, 0.1, size=seed.shape)"
   ]
  },
  {
   "cell_type": "code",
   "execution_count": 728,
   "metadata": {},
   "outputs": [],
   "source": [
    "#Make latent space gif\n",
    "images = []\n",
    "for i in range(0, num_images):\n",
    "    images.append(imageio.v2.imread(f'images/latent_space/{i}.png'))\n",
    "imageio.mimsave('images/latent_space.gif', images, fps=60)"
   ]
  },
  {
   "attachments": {},
   "cell_type": "markdown",
   "metadata": {},
   "source": [
    "## Latent Space Sweep\n",
    "<img src=\"images/latent_space.gif\" alt=\"Latent space sweep\" width=\"400\">"
   ]
  }
 ],
 "metadata": {
  "kernelspec": {
   "display_name": "Python 3",
   "language": "python",
   "name": "python3"
  },
  "language_info": {
   "codemirror_mode": {
    "name": "ipython",
    "version": 3
   },
   "file_extension": ".py",
   "mimetype": "text/x-python",
   "name": "python",
   "nbconvert_exporter": "python",
   "pygments_lexer": "ipython3",
   "version": "3.10.4"
  }
 },
 "nbformat": 4,
 "nbformat_minor": 0
}
